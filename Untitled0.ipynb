{
  "nbformat": 4,
  "nbformat_minor": 0,
  "metadata": {
    "colab": {
      "provenance": [],
      "authorship_tag": "ABX9TyNR6ztJ/+lShx6iSkI3xsLX",
      "include_colab_link": true
    },
    "kernelspec": {
      "name": "python3",
      "display_name": "Python 3"
    },
    "language_info": {
      "name": "python"
    }
  },
  "cells": [
    {
      "cell_type": "markdown",
      "metadata": {
        "id": "view-in-github",
        "colab_type": "text"
      },
      "source": [
        "<a href=\"https://colab.research.google.com/github/sharingplay/labsIA/blob/red_Neuronal_Backward/Untitled0.ipynb\" target=\"_parent\"><img src=\"https://colab.research.google.com/assets/colab-badge.svg\" alt=\"Open In Colab\"/></a>"
      ]
    },
    {
      "cell_type": "markdown",
      "source": [
        "## Con la red neuronal vista en clases, calcule los valores de la primera iteración del backward para w2, w3, w4 paso a paso"
      ],
      "metadata": {
        "id": "VJf1WHSEfelP"
      }
    },
    {
      "cell_type": "code",
      "execution_count": 7,
      "metadata": {
        "colab": {
          "base_uri": "https://localhost:8080/"
        },
        "id": "1AsRV72NfYkg",
        "outputId": "a27e3dac-d01b-45f2-bbb6-42b15877e168"
      },
      "outputs": [
        {
          "output_type": "stream",
          "name": "stdout",
          "text": [
            "Looking in indexes: https://pypi.org/simple, https://us-python.pkg.dev/colab-wheels/public/simple/\n",
            "Requirement already satisfied: torch in /usr/local/lib/python3.10/dist-packages (2.0.1+cu118)\n",
            "Requirement already satisfied: filelock in /usr/local/lib/python3.10/dist-packages (from torch) (3.12.0)\n",
            "Requirement already satisfied: typing-extensions in /usr/local/lib/python3.10/dist-packages (from torch) (4.5.0)\n",
            "Requirement already satisfied: sympy in /usr/local/lib/python3.10/dist-packages (from torch) (1.11.1)\n",
            "Requirement already satisfied: networkx in /usr/local/lib/python3.10/dist-packages (from torch) (3.1)\n",
            "Requirement already satisfied: jinja2 in /usr/local/lib/python3.10/dist-packages (from torch) (3.1.2)\n",
            "Requirement already satisfied: triton==2.0.0 in /usr/local/lib/python3.10/dist-packages (from torch) (2.0.0)\n",
            "Requirement already satisfied: cmake in /usr/local/lib/python3.10/dist-packages (from triton==2.0.0->torch) (3.25.2)\n",
            "Requirement already satisfied: lit in /usr/local/lib/python3.10/dist-packages (from triton==2.0.0->torch) (16.0.5)\n",
            "Requirement already satisfied: MarkupSafe>=2.0 in /usr/local/lib/python3.10/dist-packages (from jinja2->torch) (2.1.2)\n",
            "Requirement already satisfied: mpmath>=0.19 in /usr/local/lib/python3.10/dist-packages (from sympy->torch) (1.3.0)\n"
          ]
        }
      ],
      "source": [
        "#Autora: Adriana Álvarez F. \n",
        "# Since Collab is being used, it is necessary to install Pytorch\n",
        "!pip install torch\n",
        "import torch as torch\n",
        "\n",
        "import numpy as np\n",
        "from matplotlib import pyplot as plt\n",
        "from mpl_toolkits.mplot3d import Axes3D\n",
        "from matplotlib import cm\n",
        "\n",
        "def sigmoidalActivationFunction(x):\n",
        "  return (1/(1+(torch.exp(-x))))\n",
        "\n",
        "def forward(weights,featuresT):\n",
        "  result=weights.mm(featuresT)\n",
        "  return sigmoidalActivationFunction(result)\n",
        "\n",
        "def countRows(matrix):\n",
        "  return matrix.size()[0]\n",
        "\n",
        "def countColumns(matrix):\n",
        "  return matrix.size()[1]\n",
        "\n",
        "# Crea una matriz de tamano countHiddenLayer (rows) x countFeatures (columns) \n",
        "def randomWeights(rows, colums):\n",
        "  return (torch.rand(rows, colums))\n"
      ]
    },
    {
      "cell_type": "code",
      "source": [
        "#<<<Modificacion del codigo>?>>\n",
        "\n",
        "# Derivada de la función de activación\n",
        "def sigmoidalActivationDerivative(x):\n",
        "    return sigmoidalActivationFunction(x) * (1 - sigmoidalActivationFunction(x))\n",
        "\n",
        "#Propagacion hacia atras\n",
        "def backward(weights, featuresT, r, y, learning_rate):\n",
        "    error = torch.pow((r - y), 2) / 2\n",
        "    \n",
        "    sigmoidal_derivative = sigmoidalActivationDerivative(r)\n",
        "    \n",
        "    y = y.view(1, -1)\n",
        "    grad_w2 = sigmoidal_derivative.view(-1, 1) * featuresT[:, 0].view(1, -1)\n",
        "    grad_w3 = sigmoidal_derivative.view(-1, 1) * featuresT[:, 1].view(1, -1)\n",
        "    grad_w4 = sigmoidal_derivative.view(-1, 1) * featuresT[:, 2].view(1, -1)\n",
        "    \n",
        "    weights[0][0] -= learning_rate * grad_w2.sum()\n",
        "    weights[0][1] -= learning_rate * grad_w3.sum()\n",
        "    weights[0][2] -= learning_rate * grad_w4.sum()\n",
        "    \n",
        "    return error, weights"
      ],
      "metadata": {
        "id": "JTNMGfLVg-Lr"
      },
      "execution_count": 12,
      "outputs": []
    },
    {
      "cell_type": "code",
      "source": [
        "# Datos de entrada\n",
        "x = torch.tensor([[0.05, 0.01, 1], [0.02, 0.5, 1], [2, 4, 1]])  # Agrega una columna de unos al final de x\n",
        "y = torch.tensor([1])\n",
        "\n",
        "rows = x.size()[0]\n",
        "columns = x.size()[1]\n",
        "\n",
        "countNeuronsHiddenLayer1 = 1\n",
        "\n",
        "weights = torch.rand(countNeuronsHiddenLayer1, columns)\n",
        "\n",
        "featuresT = x.transpose(0, 1)\n",
        "\n",
        "learning_rate = 0.1\n",
        "\n",
        "r = forward(weights, featuresT)\n",
        "\n",
        "error, weights = backward(weights, featuresT, r, y, learning_rate)\n",
        "\n",
        "print(\"Errores:\", error)\n",
        "print(\"Pesos actualizados:\\nW2: \", weights[0][0], \"\\nW3: \", weights[0][1], \"\\nW4: \", weights[0][2])"
      ],
      "metadata": {
        "colab": {
          "base_uri": "https://localhost:8080/"
        },
        "id": "ADKF8sWQf2Ma",
        "outputId": "be841e95-9473-4d71-fdbd-3ca14e7cebbf"
      },
      "execution_count": 19,
      "outputs": [
        {
          "output_type": "stream",
          "name": "stdout",
          "text": [
            "Errores: tensor([[0.0589, 0.0507, 0.0010]])\n",
            "Pesos actualizados:\n",
            "W2:  tensor(0.6045) \n",
            "W3:  tensor(0.1713) \n",
            "W4:  tensor(0.1579)\n"
          ]
        }
      ]
    }
  ]
}